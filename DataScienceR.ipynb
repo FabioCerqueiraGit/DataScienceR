{
  "nbformat": 4,
  "nbformat_minor": 0,
  "metadata": {
    "colab": {
      "provenance": [],
      "authorship_tag": "ABX9TyNKg8hLj2f5PK29FyHJ9fu4",
      "include_colab_link": true
    },
    "kernelspec": {
      "name": "python3",
      "display_name": "Python 3"
    },
    "language_info": {
      "name": "python"
    }
  },
  "cells": [
    {
      "cell_type": "markdown",
      "metadata": {
        "id": "view-in-github",
        "colab_type": "text"
      },
      "source": [
        "<a href=\"https://colab.research.google.com/github/FabioCerqueiraGit/DataScienceR/blob/main/DataScienceR.ipynb\" target=\"_parent\"><img src=\"https://colab.research.google.com/assets/colab-badge.svg\" alt=\"Open In Colab\"/></a>"
      ]
    },
    {
      "cell_type": "markdown",
      "source": [
        "# Análise de Vendas com R\n",
        "Realizando análise de vendas com R e bibliotecas:\n",
        "\n",
        "\n",
        "*   Tidyverse\n",
        "*   Readxl\n",
        "\n"
      ],
      "metadata": {
        "id": "2FLOcZ9yxmTI"
      }
    },
    {
      "cell_type": "code",
      "source": [
        "# Configurando o ambiente para usar R\n",
        "%load_ext rpy2.ipython\n"
      ],
      "metadata": {
        "id": "P9-OBGHSy7Zz"
      },
      "execution_count": 2,
      "outputs": []
    },
    {
      "cell_type": "markdown",
      "source": [
        "# Instalando as bibliotecas Tidyverse e Readxl"
      ],
      "metadata": {
        "id": "h30uTMe3yByd"
      }
    },
    {
      "cell_type": "code",
      "execution_count": null,
      "metadata": {
        "collapsed": true,
        "id": "2h_d1BS0vwXQ"
      },
      "outputs": [],
      "source": [
        "%%R\n",
        "# Instalando e carregando os pacotes necessários\n",
        "install.packages(\"tidyverse\")\n",
        "install.packages(\"readxl\")\n",
        "library(tidyverse)\n",
        "library(readxl)"
      ]
    },
    {
      "cell_type": "code",
      "source": [
        "# Carregar os dados\n",
        "metas <- read_excel(\"https://github.com/FabioCerqueiraGit/DadosVendasDescaracterizados/blob/main/Metas.xlsx?raw=true\")\n",
        "produtos <- read_excel(\"https://github.com/FabioCerqueiraGit/DadosVendasDescaracterizados/blob/main/Produtos.xlsx?raw=true\")\n",
        "vendas <- read_excel(\"https://github.com/FabioCerqueiraGit/DadosVendasDescaracterizados/blob/main/Vendas.xlsx?raw=true\")\n",
        "vendedores <- read_excel(\"https://github.com/FabioCerqueiraGit/DadosVendasDescaracterizados/blob/main/Vendedores.xlsx?raw=true\")\n"
      ],
      "metadata": {
        "id": "_cLhJFxGwegx"
      },
      "execution_count": null,
      "outputs": []
    },
    {
      "cell_type": "code",
      "source": [
        "# Mapeamento dos meses em português para números\n",
        "meses <- c(\"janeiro\" = 1, \"fevereiro\" = 2, \"março\" = 3, \"abril\" = 4, \"maio\" = 5, \"junho\" = 6,\n",
        "           \"julho\" = 7, \"agosto\" = 8, \"setembro\" = 9, \"outubro\" = 10, \"novembro\" = 11, \"dezembro\" = 12)\n",
        "\n",
        "# Criando a coluna MesNumero\n",
        "metas <- metas %>%\n",
        "  mutate(MesNumero = meses[tolower(Mês)],\n",
        "         Trimestre = (MesNumero - 1) %/% 3 + 1,\n",
        "         Semestre = (MesNumero - 1) %/% 6 + 1)"
      ],
      "metadata": {
        "id": "LJZCQY5Pwh5i"
      },
      "execution_count": null,
      "outputs": []
    },
    {
      "cell_type": "code",
      "source": [
        "# Removendo o prefixo \"Prod \" e convertendo para inteiro na coluna \"Cod Produto\"\n",
        "produtos <- produtos %>%\n",
        "  mutate(`Cod Produto` = as.integer(str_replace(`Cod Produto`, \"Prod \", \"\")))"
      ],
      "metadata": {
        "id": "HmErVuCawkML"
      },
      "execution_count": null,
      "outputs": []
    },
    {
      "cell_type": "code",
      "source": [
        "# Unindo vendas com produtos\n",
        "vendas_produtos <- vendas %>%\n",
        "  inner_join(produtos, by = c(\"cdProduto\" = \"Cod Produto\"))\n",
        "\n",
        "# Unindo vendas com vendedores\n",
        "vendas_completas <- vendas_produtos %>%\n",
        "  inner_join(vendedores, by = c(\"cdVendedor\" = \"cdVendedor\"))"
      ],
      "metadata": {
        "id": "fIMydUR0wk9q"
      },
      "execution_count": null,
      "outputs": []
    },
    {
      "cell_type": "code",
      "source": [
        "# Calculando o valor total das vendas\n",
        "vendas_completas <- vendas_completas %>%\n",
        "  mutate(ValorTotalVenda = PrecoUnitario * QtdItens)\n",
        "\n",
        "# Imprimindo a soma total de ValorTotalVenda\n",
        "soma_total_vendas <- sum(vendas_completas$ValorTotalVenda)\n",
        "print(paste(\"Soma total de ValorTotalVenda:\", soma_total_vendas))"
      ],
      "metadata": {
        "id": "Qlj0BOOuwoFN"
      },
      "execution_count": null,
      "outputs": []
    },
    {
      "cell_type": "code",
      "source": [
        "# Unindo vendas com metas\n",
        "vendas_metas <- vendas_completas %>%\n",
        "  inner_join(metas, by = c(\"cdProduto\" = \"cdProduto\", \"cdVendedor\" = \"Vendedor\", \"MesNumero\" = \"MesNumero\")) %>%\n",
        "  mutate(DifMeta = ValorTotalVenda - `Meta Faturamento`)\n",
        "\n",
        "# Imprimindo a soma total de Meta Faturamento\n",
        "soma_total_meta <- sum(vendas_metas$`Meta Faturamento`)\n",
        "print(paste(\"Soma total de Meta Faturamento:\", soma_total_meta))"
      ],
      "metadata": {
        "id": "vagI5zmqwrTS"
      },
      "execution_count": null,
      "outputs": []
    },
    {
      "cell_type": "code",
      "source": [
        "# Opções de filtro\n",
        "opcao <- readline(prompt = \"Escolha o filtro (mês, trimestre, semestre, ano): \")\n",
        "opcao <- tolower(opcao)\n",
        "\n",
        "if (opcao == \"mês\") {\n",
        "  mes <- as.integer(readline(prompt = \"Digite o número do mês (1-12): \"))\n",
        "  vendas_metas <- vendas_metas %>% filter(MesNumero == mes)\n",
        "} else if (opcao == \"trimestre\") {\n",
        "  trimestre <- as.integer(readline(prompt = \"Digite o número do trimestre (1-4): \"))\n",
        "  vendas_metas <- vendas_metas %>% filter(Trimestre == trimestre)\n",
        "} else if (opcao == \"semestre\") {\n",
        "  semestre <- as.integer(readline(prompt = \"Digite o número do semestre (1-2): \"))\n",
        "  vendas_metas <- vendas_metas %>% filter(Semestre == semestre)\n",
        "} else if (opcao == \"ano\") {\n",
        "  ano <- as.integer(readline(prompt = \"Digite o ano: \"))\n",
        "  vendas_metas <- vendas_metas %>% filter(Ano == ano)\n",
        "} else {\n",
        "  print(\"Opção inválida. Gerando gráfico para todos os dados.\")\n",
        "}"
      ],
      "metadata": {
        "id": "fUjPs8iqwv3E"
      },
      "execution_count": null,
      "outputs": []
    },
    {
      "cell_type": "code",
      "source": [
        "# Gráfico da quantidade de produtos vendidos\n",
        "quantidade_produtos_vendidos <- vendas_metas %>%\n",
        "  group_by(LinhaProduto) %>%\n",
        "  summarise(QuantidadeVendida = sum(QtdItens))\n",
        "\n",
        "ggplot(quantidade_produtos_vendidos, aes(x = LinhaProduto, y = QuantidadeVendida, fill = LinhaProduto)) +\n",
        "  geom_bar(stat = \"identity\") +\n",
        "  labs(title = \"Quantidade de Produtos Vendidos\", x = \"Produto\", y = \"Quantidade Vendida\") +\n",
        "  theme_minimal() +\n",
        "  theme(legend.position = \"none\")"
      ],
      "metadata": {
        "id": "O_lmm8wowyzT"
      },
      "execution_count": null,
      "outputs": []
    },
    {
      "cell_type": "code",
      "source": [
        "# Gráfico do total de vendas por vendedor\n",
        "total_vendas_vendedores <- vendas_metas %>%\n",
        "  group_by(Vendedor) %>%\n",
        "  summarise(TotalVendas = sum(ValorTotalVenda))\n",
        "\n",
        "ggplot(total_vendas_vendedores, aes(x = reorder(Vendedor, -TotalVendas), y = TotalVendas, fill = Vendedor)) +\n",
        "  geom_bar(stat = \"identity\") +\n",
        "  labs(title = \"Total de Vendas por Vendedor\", x = \"Vendedor\", y = \"Total de Vendas\") +\n",
        "  theme_minimal() +\n",
        "  theme(legend.position = \"none\") +\n",
        "  coord_flip()  # Flip para facilitar a leitura dos nomes dos vendedores"
      ],
      "metadata": {
        "id": "TMrThLA_xKmn"
      },
      "execution_count": null,
      "outputs": []
    }
  ]
}